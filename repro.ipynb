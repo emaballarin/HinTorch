{
 "cells": [
  {
   "cell_type": "markdown",
   "metadata": {},
   "source": [
    "# Is Deep Learning *slipping* [on the shoulders of Giants](https://www.wikiwand.com/en/Standing_on_the_shoulders_of_giants)?\n",
    "### A critical reproducibility challenge for [[Rumelhart et al., 1986]](https://sci-hub.se/10.1038/323533a0)"
   ]
  },
  {
   "cell_type": "markdown",
   "metadata": {},
   "source": [
    "*TO BE FILLED*\n",
    "\n",
    "Explain why and when it all started..."
   ]
  },
  {
   "cell_type": "code",
   "execution_count": null,
   "metadata": {},
   "outputs": [],
   "source": [
    "# ===========\n",
    "# IMPORTS\n",
    "# ===========\n",
    "\n",
    "# Type hints\n",
    "from typing import Iterable, List, Tuple\n",
    "from torch import Tensor\n",
    "\n",
    "# Tensors and NNs\n",
    "import torch as th\n",
    "\n",
    "# Tensor data[sets|loader]s\n",
    "from torch.utils.data import TensorDataset, DataLoader\n",
    "\n",
    "# Iterable handling\n",
    "from itertools import product\n",
    "\n"
   ]
  },
  {
   "cell_type": "code",
   "execution_count": null,
   "metadata": {},
   "outputs": [],
   "source": [
    "# The algorithmic function (symmetry-detection for 5-sized binary inputs) we\n",
    "# want to approximate with a NN\n",
    "def is_symmetric(iterable: Iterable) -> float:\n",
    "    assert len(iterable) == 6\n",
    "    if (\n",
    "        # iterable[0:3] == iterable[5:2:-1] still unsupported for PyTorch tensors\n",
    "        iterable[0] == iterable[-1]\n",
    "        and iterable[1] == iterable[-2]\n",
    "        and iterable[2] == iterable[-3]\n",
    "    ):\n",
    "    # 1 == Yes | 0 == No\n",
    "        return 1.0\n",
    "    return 0.0"
   ]
  },
  {
   "cell_type": "code",
   "execution_count": null,
   "metadata": {},
   "outputs": [],
   "source": [
    "# We split the dataset output-wise early on, to be able to balance it later in\n",
    "# case we need to.\n",
    "\n",
    "x_all: List[Tuple[float]] = [item for item in product([0.0, 1.0], repeat=6)]\n",
    "x_symmetric: List[Tuple[float]] = [item for item in x_all if is_symmetric(item)]\n",
    "x_non_symmetric: List[Tuple[float]] = [item for item in set(x_all).difference(set(x_symmetric))]\n",
    "\n",
    "# And we tensorize it\n",
    "del x_all   # We don't need it anymore\n",
    "x_symmetric: Tensor = th.tensor(x_symmetric, dtype=th.float32)\n",
    "x_non_symmetric: Tensor = th.tensor(x_non_symmetric, dtype=th.float32)"
   ]
  },
  {
   "cell_type": "code",
   "execution_count": null,
   "metadata": {},
   "outputs": [],
   "source": [
    "# The original dataset tensor\n",
    "x: Tensor = th.cat((x_non_symmetric, x_symmetric), dim=0)\n",
    "y: Tensor = th.tensor([[is_symmetric(sub_x)] for sub_x in x])\n",
    "\n",
    "# And the balanced one\n",
    "balancing_ratio: int = int((x_non_symmetric.shape[0]/x_symmetric.shape[0]))\n",
    "x_balanced: Tensor = th.cat((x_non_symmetric, th.cat([x_symmetric]*balancing_ratio, dim=0)), dim=0)\n",
    "y_balanced: Tensor = th.tensor([[is_symmetric(sub_x)] for sub_x in x_balanced])\n",
    "del balancing_ratio"
   ]
  },
  {
   "cell_type": "code",
   "execution_count": null,
   "metadata": {},
   "outputs": [],
   "source": [
    "# Conversion to proper PyTorch data[set|loader]s\n",
    "\n",
    "# Datasets\n",
    "train_unbalanced_ds = TensorDataset(x, y)\n",
    "train_balanced_ds = TensorDataset(x_balanced, y_balanced)\n",
    "\n",
    "# Dataloaders (we do full-dataset-batching as in the paper)\n",
    "train_unbalanced_dl = DataLoader(train_unbalanced_ds, batch_size=len(train_unbalanced_ds), shuffle=True)\n",
    "train_balanced_dl = DataLoader(train_balanced_ds, batch_size=len(train_balanced_ds), shuffle=True)"
   ]
  }
 ],
 "metadata": {
  "interpreter": {
   "hash": "a254846949b21e7b07fb88d35b1c9d93d9e8e397acf2db30c111907ad2b4b90b"
  },
  "kernelspec": {
   "display_name": "Python 3.9.10 ('RDDL')",
   "language": "python",
   "name": "python3"
  },
  "language_info": {
   "codemirror_mode": {
    "name": "ipython",
    "version": 3
   },
   "file_extension": ".py",
   "mimetype": "text/x-python",
   "name": "python",
   "nbconvert_exporter": "python",
   "pygments_lexer": "ipython3",
   "version": "3.9.10"
  },
  "orig_nbformat": 4
 },
 "nbformat": 4,
 "nbformat_minor": 2
}
