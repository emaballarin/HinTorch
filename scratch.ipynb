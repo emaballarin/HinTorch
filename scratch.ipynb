{
 "cells": [
  {
   "cell_type": "code",
   "execution_count": 1,
   "metadata": {},
   "outputs": [],
   "source": [
    "# Type hints\n",
    "from typing import Union, Iterable\n",
    "from torch import Tensor\n",
    "\n",
    "# Just to force-load MKL (if available)\n",
    "import numpy as np\n",
    "\n",
    "# Neural networks and friends\n",
    "import torch as th\n",
    "import torch.nn as nn\n",
    "import torch.nn.functional as F\n",
    "import torch.optim as optim\n",
    "\n",
    "# High-level abstractions over PyTorch primitives\n",
    "from ebtorch.nn import FCBlock\n",
    "\n",
    "# Model summarization\n",
    "from torchinfo import summary\n",
    "\n",
    "# Dataset handling for PyTorch\n",
    "from torch.utils.data import TensorDataset\n",
    "from torch.utils.data import DataLoader\n",
    "\n",
    "# Permutation building easer\n",
    "from itertools import product\n",
    "\n",
    "# Plotting the loss function\n",
    "from matplotlib import pyplot as plt"
   ]
  },
  {
   "cell_type": "code",
   "execution_count": 2,
   "metadata": {},
   "outputs": [],
   "source": [
    "# Obtain the true target class (output) from any valid iterable input\n",
    "def mirrsymm(iterable: Iterable) -> float:\n",
    "    assert len(iterable) == 6\n",
    "    # if iterable[0:3] == iterable[5:2:-1]:\n",
    "    # Missing support from PyTorch side for this; what a pity!\n",
    "    # What follows is the easiest non-copying version of the mirror condition :\\\n",
    "    if (\n",
    "        iterable[0] == iterable[-1]\n",
    "        and iterable[1] == iterable[-2]\n",
    "        and iterable[2] == iterable[-3]\n",
    "    ):\n",
    "        return 1.0\n",
    "    return 0.0"
   ]
  },
  {
   "cell_type": "code",
   "execution_count": 3,
   "metadata": {},
   "outputs": [],
   "source": [
    "# Obtain all possible inputs (thanks, itertools!)\n",
    "x: Tensor = th.tensor(\n",
    "    [item for item in product([0.0, 1.0], repeat=6)], dtype=th.float32\n",
    ")"
   ]
  },
  {
   "cell_type": "code",
   "execution_count": 4,
   "metadata": {},
   "outputs": [],
   "source": [
    "# Obtain all corresponding outputs (thanks, crazily-flexible comprehensions!)\n",
    "y: Tensor = th.tensor([[mirrsymm(myin)] for myin in x])"
   ]
  },
  {
   "cell_type": "code",
   "execution_count": 5,
   "metadata": {},
   "outputs": [],
   "source": [
    "# Define training data[set | loader]s\n",
    "train = TensorDataset(x, y)\n",
    "train_loader = DataLoader(\n",
    "    train, batch_size=64, shuffle=True    # Not strictly necessary for full-dataset GD\n",
    ")"
   ]
  },
  {
   "cell_type": "code",
   "execution_count": 6,
   "metadata": {},
   "outputs": [],
   "source": [
    "model = FCBlock(\n",
    "    in_sizes=[6, 2],\n",
    "    out_size=1,\n",
    "    bias=True,\n",
    "    activation_fx=nn.Sigmoid(),\n",
    "    dropout=False,\n",
    "    batchnorm=False\n",
    ")"
   ]
  },
  {
   "cell_type": "code",
   "execution_count": 7,
   "metadata": {},
   "outputs": [
    {
     "data": {
      "text/plain": [
       "=================================================================\n",
       "Layer (type:depth-idx)                   Param #\n",
       "=================================================================\n",
       "FCBlock                                  --\n",
       "├─ModuleList: 1-1                        --\n",
       "│    └─Sigmoid: 2-1                      --\n",
       "│    └─Sigmoid: 2-2                      --\n",
       "├─ModuleList: 1-2                        --\n",
       "│    └─Linear: 2-3                       14\n",
       "│    └─Sigmoid: 2-4                      --\n",
       "│    └─Linear: 2-5                       3\n",
       "│    └─Sigmoid: 2-6                      --\n",
       "=================================================================\n",
       "Total params: 17\n",
       "Trainable params: 17\n",
       "Non-trainable params: 0\n",
       "================================================================="
      ]
     },
     "execution_count": 7,
     "metadata": {},
     "output_type": "execute_result"
    }
   ],
   "source": [
    "summary(model)"
   ]
  },
  {
   "cell_type": "code",
   "execution_count": 8,
   "metadata": {},
   "outputs": [],
   "source": [
    "extrema = (-0.3, 0.3)\n",
    "for name, param in model.named_parameters():\n",
    "    if name.endswith(\"weight\"):\n",
    "        nn.init.uniform_(param, a=extrema[0], b=extrema[1])\n",
    "    if name.endswith(\"bias\"):\n",
    "        nn.init.zeros_(param)"
   ]
  },
  {
   "cell_type": "code",
   "execution_count": 9,
   "metadata": {},
   "outputs": [],
   "source": [
    "# Instantiate the optimizer (hyperparameters from the paper; but no momentum, as requested!)\n",
    "optimizer = optim.SGD(model.parameters(), lr=0.1, momentum=0.9)"
   ]
  },
  {
   "cell_type": "code",
   "execution_count": 10,
   "metadata": {},
   "outputs": [],
   "source": [
    "# Become device-aware\n",
    "#device = th.device(\"cuda\" if th.cuda.is_available() else \"cpu\")\n",
    "device = th.device(\"cpu\")"
   ]
  },
  {
   "cell_type": "code",
   "execution_count": 11,
   "metadata": {},
   "outputs": [],
   "source": [
    "# Define the loss criterion\n",
    "criterion = F.mse_loss"
   ]
  },
  {
   "cell_type": "code",
   "execution_count": 12,
   "metadata": {},
   "outputs": [],
   "source": [
    "# Keep track of the loss/accuracy on a per-epoch basis\n",
    "losses = []\n",
    "accuracies = []"
   ]
  },
  {
   "cell_type": "code",
   "execution_count": 13,
   "metadata": {},
   "outputs": [
    {
     "data": {
      "text/plain": [
       "FCBlock(\n",
       "  (activation_fx): ModuleList(\n",
       "    (0): Sigmoid()\n",
       "    (1): Sigmoid()\n",
       "  )\n",
       "  (module_battery): ModuleList(\n",
       "    (0): Linear(in_features=6, out_features=2, bias=True)\n",
       "    (1): Sigmoid()\n",
       "    (2): Linear(in_features=2, out_features=1, bias=True)\n",
       "    (3): Sigmoid()\n",
       "  )\n",
       ")"
      ]
     },
     "execution_count": 13,
     "metadata": {},
     "output_type": "execute_result"
    }
   ],
   "source": [
    "# Actual training loop\n",
    "\n",
    "model.to(device)  # Copy model to device\n",
    "\n",
    "model.train()  # Not strictly needed *here*, but a good practice!\n",
    "\n",
    "for epoch in range(14500):\n",
    "    for x, y in train_loader:\n",
    "\n",
    "        # Copy to device\n",
    "        x, y = x.to(device), y.to(device)\n",
    "\n",
    "        # Per-batch mechanics\n",
    "        optimizer.zero_grad()\n",
    "        y_hat = model(x)\n",
    "        loss = criterion(y_hat, y)\n",
    "        losses.append(\n",
    "            loss.item()\n",
    "        )  # We just want the number, not the whole computational graph attached!\n",
    "\n",
    "        # Compute accuracy on-the-fly (since batch == dataset)\n",
    "        with th.no_grad():\n",
    "            out = th.round(model(x))\n",
    "            accuracies.append((out.eq(y.view_as(out))).sum().item() / len(x))\n",
    "\n",
    "        # Business as usual...\n",
    "        loss.backward()\n",
    "        optimizer.step()\n",
    "\n",
    "model.eval()  # Not strictly needed *here*, but a good practice!"
   ]
  },
  {
   "cell_type": "code",
   "execution_count": 14,
   "metadata": {},
   "outputs": [
    {
     "data": {
      "text/plain": [
       "[<matplotlib.lines.Line2D at 0x7f4fc06440d0>]"
      ]
     },
     "execution_count": 14,
     "metadata": {},
     "output_type": "execute_result"
    },
    {
     "data": {
      "image/png": "[encoded data removed]",
      "text/plain": [
       "<Figure size 432x288 with 1 Axes>"
      ]
     },
     "metadata": {},
     "output_type": "display_data"
    }
   ],
   "source": [
    "# Plot the losses w.r.t. epoch\n",
    "plt.plot(losses)"
   ]
  },
  {
   "cell_type": "code",
   "execution_count": 15,
   "metadata": {},
   "outputs": [
    {
     "data": {
      "text/plain": [
       "[<matplotlib.lines.Line2D at 0x7f4fc052d730>]"
      ]
     },
     "execution_count": 15,
     "metadata": {},
     "output_type": "execute_result"
    },
    {
     "data": {
      "image/png": "[encoded data removed]",
      "text/plain": [
       "<Figure size 432x288 with 1 Axes>"
      ]
     },
     "metadata": {},
     "output_type": "display_data"
    }
   ],
   "source": [
    "# Plot testing accuracies w.r.t. epoch\n",
    "plt.plot(accuracies)"
   ]
  },
  {
   "cell_type": "code",
   "execution_count": 16,
   "metadata": {},
   "outputs": [
    {
     "name": "stdout",
     "output_type": "stream",
     "text": [
      "tensor([[-0.1818,  0.6458,  0.8567,  0.9234,  0.6078, -0.0940],\n",
      "        [ 0.1353, -0.1895,  0.0433, -0.2374, -0.0352, -0.2161]])\n",
      "tensor([ 0.2905, -0.1123])\n",
      "tensor([[-0.9905, -0.2939]])\n",
      "tensor([-1.0199])\n"
     ]
    }
   ],
   "source": [
    "# Inspect learned parameters\n",
    "with th.no_grad():\n",
    "    for param in model.parameters():\n",
    "        print(param.detach().clone())"
   ]
  },
  {
   "cell_type": "code",
   "execution_count": 17,
   "metadata": {},
   "outputs": [
    {
     "name": "stdout",
     "output_type": "stream",
     "text": [
      "0.10876566916704178\n",
      "0.875\n"
     ]
    }
   ],
   "source": [
    "# Print loss and accuracy for last epoch (end of training)\n",
    "print(losses[-1])\n",
    "print(accuracies[-1])"
   ]
  },
  {
   "cell_type": "code",
   "execution_count": 18,
   "metadata": {},
   "outputs": [
    {
     "name": "stdout",
     "output_type": "stream",
     "text": [
      "0.0 1.0 \n",
      "\n",
      "0.0 1.0 \n",
      "\n",
      "0.0 1.0 \n",
      "\n",
      "0.0 1.0 \n",
      "\n",
      "0.0 1.0 \n",
      "\n",
      "0.0 1.0 \n",
      "\n",
      "0.0 1.0 \n",
      "\n",
      "0.0 1.0 \n",
      "\n"
     ]
    }
   ],
   "source": [
    "# Print model output (discretized) for the \"mirror\" inputs vs. expected output\n",
    "with th.no_grad():\n",
    "    for mirrorlist in [\n",
    "        [0, 0, 0, 0, 0, 0],\n",
    "        [0, 0, 1, 1, 0, 0],\n",
    "        [0, 1, 0, 0, 1, 0],\n",
    "        [1, 0, 0, 0, 0, 1],\n",
    "        [0, 1, 1, 1, 1, 0],\n",
    "        [1, 1, 0, 0, 1, 1],\n",
    "        [1, 0, 1, 1, 0, 1],\n",
    "        [1, 1, 1, 1, 1, 1],\n",
    "    ]:\n",
    "        print(\n",
    "            th.round_(\n",
    "                model(th.tensor(mirrorlist, dtype=th.float32).to(device))\n",
    "                .detach()\n",
    "                .clone()\n",
    "            ).item(),\n",
    "            mirrsymm(mirrorlist),\n",
    "            \"\\n\",\n",
    "        )"
   ]
  }
 ],
 "metadata": {
  "interpreter": {
   "hash": "a254846949b21e7b07fb88d35b1c9d93d9e8e397acf2db30c111907ad2b4b90b"
  },
  "kernelspec": {
   "display_name": "Python 3.9.10 ('RDDL')",
   "language": "python",
   "name": "python3"
  },
  "language_info": {
   "codemirror_mode": {
    "name": "ipython",
    "version": 3
   },
   "file_extension": ".py",
   "mimetype": "text/x-python",
   "name": "python",
   "nbconvert_exporter": "python",
   "pygments_lexer": "ipython3",
   "version": "3.9.10"
  },
  "orig_nbformat": 4
 },
 "nbformat": 4,
 "nbformat_minor": 2
}
